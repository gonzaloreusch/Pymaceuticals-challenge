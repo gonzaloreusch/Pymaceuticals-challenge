{
 "cells": [
  {
   "cell_type": "markdown",
   "metadata": {},
   "source": [
    "## Observations and Insights "
   ]
  },
  {
   "cell_type": "markdown",
   "metadata": {},
   "source": []
  },
  {
   "cell_type": "code",
   "execution_count": 1,
   "metadata": {},
   "outputs": [
    {
     "data": {
      "text/html": [
       "<div>\n",
       "<style scoped>\n",
       "    .dataframe tbody tr th:only-of-type {\n",
       "        vertical-align: middle;\n",
       "    }\n",
       "\n",
       "    .dataframe tbody tr th {\n",
       "        vertical-align: top;\n",
       "    }\n",
       "\n",
       "    .dataframe thead th {\n",
       "        text-align: right;\n",
       "    }\n",
       "</style>\n",
       "<table border=\"1\" class=\"dataframe\">\n",
       "  <thead>\n",
       "    <tr style=\"text-align: right;\">\n",
       "      <th></th>\n",
       "      <th>Mouse ID</th>\n",
       "      <th>Drug Regimen</th>\n",
       "      <th>Sex</th>\n",
       "      <th>Age_months</th>\n",
       "      <th>Weight (g)</th>\n",
       "      <th>Timepoint</th>\n",
       "      <th>Tumor Volume (mm3)</th>\n",
       "      <th>Metastatic Sites</th>\n",
       "    </tr>\n",
       "  </thead>\n",
       "  <tbody>\n",
       "    <tr>\n",
       "      <th>0</th>\n",
       "      <td>k403</td>\n",
       "      <td>Ramicane</td>\n",
       "      <td>Male</td>\n",
       "      <td>21</td>\n",
       "      <td>16</td>\n",
       "      <td>0</td>\n",
       "      <td>45.000000</td>\n",
       "      <td>0</td>\n",
       "    </tr>\n",
       "    <tr>\n",
       "      <th>1</th>\n",
       "      <td>k403</td>\n",
       "      <td>Ramicane</td>\n",
       "      <td>Male</td>\n",
       "      <td>21</td>\n",
       "      <td>16</td>\n",
       "      <td>5</td>\n",
       "      <td>38.825898</td>\n",
       "      <td>0</td>\n",
       "    </tr>\n",
       "    <tr>\n",
       "      <th>2</th>\n",
       "      <td>k403</td>\n",
       "      <td>Ramicane</td>\n",
       "      <td>Male</td>\n",
       "      <td>21</td>\n",
       "      <td>16</td>\n",
       "      <td>10</td>\n",
       "      <td>35.014271</td>\n",
       "      <td>1</td>\n",
       "    </tr>\n",
       "    <tr>\n",
       "      <th>3</th>\n",
       "      <td>k403</td>\n",
       "      <td>Ramicane</td>\n",
       "      <td>Male</td>\n",
       "      <td>21</td>\n",
       "      <td>16</td>\n",
       "      <td>15</td>\n",
       "      <td>34.223992</td>\n",
       "      <td>1</td>\n",
       "    </tr>\n",
       "    <tr>\n",
       "      <th>4</th>\n",
       "      <td>k403</td>\n",
       "      <td>Ramicane</td>\n",
       "      <td>Male</td>\n",
       "      <td>21</td>\n",
       "      <td>16</td>\n",
       "      <td>20</td>\n",
       "      <td>32.997729</td>\n",
       "      <td>1</td>\n",
       "    </tr>\n",
       "  </tbody>\n",
       "</table>\n",
       "</div>"
      ],
      "text/plain": [
       "  Mouse ID Drug Regimen   Sex  Age_months  Weight (g)  Timepoint  \\\n",
       "0     k403     Ramicane  Male          21          16          0   \n",
       "1     k403     Ramicane  Male          21          16          5   \n",
       "2     k403     Ramicane  Male          21          16         10   \n",
       "3     k403     Ramicane  Male          21          16         15   \n",
       "4     k403     Ramicane  Male          21          16         20   \n",
       "\n",
       "   Tumor Volume (mm3)  Metastatic Sites  \n",
       "0           45.000000                 0  \n",
       "1           38.825898                 0  \n",
       "2           35.014271                 1  \n",
       "3           34.223992                 1  \n",
       "4           32.997729                 1  "
      ]
     },
     "execution_count": 1,
     "metadata": {},
     "output_type": "execute_result"
    }
   ],
   "source": [
    "# Dependencies and Setup\n",
    "import matplotlib.pyplot as plt\n",
    "import pandas as pd\n",
    "import scipy.stats as st\n",
    "import numpy as np\n",
    "\n",
    "# Study data files\n",
    "mouse_metadata_path = \"data/Mouse_metadata.csv\"\n",
    "study_results_path = \"data/Study_results.csv\"\n",
    "\n",
    "# Read the mouse data and the study results\n",
    "mouse_metadata = pd.read_csv(mouse_metadata_path)\n",
    "study_results = pd.read_csv(study_results_path)\n",
    "#printmouse_metadata;study_results\n",
    "#mouse_metadata.head()\n",
    "#mouse_metadata['Mouse ID'].count #249\n",
    "#study_results.head()\n",
    "#study_results['Mouse ID'].count #1893\n",
    "\n",
    "# Combine the data into a single dataset\n",
    "merged=pd.merge(mouse_metadata,study_results,how='inner', on='Mouse ID')\n",
    "# Display the data table for preview\n",
    "merged.head()\n",
    " "
   ]
  },
  {
   "cell_type": "code",
   "execution_count": 2,
   "metadata": {},
   "outputs": [
    {
     "data": {
      "text/plain": [
       "249"
      ]
     },
     "execution_count": 2,
     "metadata": {},
     "output_type": "execute_result"
    }
   ],
   "source": [
    "# Checking the number of mice.\n",
    "M_count=merged['Mouse ID'].nunique()\n",
    "M_count"
   ]
  },
  {
   "cell_type": "code",
   "execution_count": 95,
   "metadata": {},
   "outputs": [
    {
     "data": {
      "text/plain": [
       "'g989'"
      ]
     },
     "execution_count": 95,
     "metadata": {},
     "output_type": "execute_result"
    }
   ],
   "source": [
    "# Getting the duplicate mice by ID number that shows up for Mouse ID and Timepoint. \n",
    "#df=data origin.form to readdata.[{( dataorigin.what to look for.[{( where to look, criteria.tipo\n",
    "#https://pandas.pydata.org/pandas-docs/stable/reference/api/pandas.DataFrame.loc.html\n",
    "#duplicatemtp=merged.?????forma??[merged.duplicated([\"Mouse ID\",\"Timepoint\"])],??criteria??.nunique() not sure if nunique\n",
    "#nunique gives me the count... 1 i need to get the name thus nunique...but the way that shoes me the info is: array(['g989'], dtype=object), thus [0] im asking for first position on my []\n",
    "duplicatemtp=merged.loc[merged.duplicated([\"Mouse ID\",\"Timepoint\"]),\"Mouse ID\"].unique()\n",
    "duplicatemtp[0]"
   ]
  },
  {
   "cell_type": "code",
   "execution_count": 99,
   "metadata": {},
   "outputs": [
    {
     "data": {
      "text/html": [
       "<div>\n",
       "<style scoped>\n",
       "    .dataframe tbody tr th:only-of-type {\n",
       "        vertical-align: middle;\n",
       "    }\n",
       "\n",
       "    .dataframe tbody tr th {\n",
       "        vertical-align: top;\n",
       "    }\n",
       "\n",
       "    .dataframe thead th {\n",
       "        text-align: right;\n",
       "    }\n",
       "</style>\n",
       "<table border=\"1\" class=\"dataframe\">\n",
       "  <thead>\n",
       "    <tr style=\"text-align: right;\">\n",
       "      <th></th>\n",
       "      <th>Mouse ID</th>\n",
       "      <th>Drug Regimen</th>\n",
       "      <th>Sex</th>\n",
       "      <th>Age_months</th>\n",
       "      <th>Weight (g)</th>\n",
       "      <th>Timepoint</th>\n",
       "      <th>Tumor Volume (mm3)</th>\n",
       "      <th>Metastatic Sites</th>\n",
       "    </tr>\n",
       "  </thead>\n",
       "  <tbody>\n",
       "    <tr>\n",
       "      <th>908</th>\n",
       "      <td>g989</td>\n",
       "      <td>Propriva</td>\n",
       "      <td>Female</td>\n",
       "      <td>21</td>\n",
       "      <td>26</td>\n",
       "      <td>0</td>\n",
       "      <td>45.000000</td>\n",
       "      <td>0</td>\n",
       "    </tr>\n",
       "    <tr>\n",
       "      <th>909</th>\n",
       "      <td>g989</td>\n",
       "      <td>Propriva</td>\n",
       "      <td>Female</td>\n",
       "      <td>21</td>\n",
       "      <td>26</td>\n",
       "      <td>0</td>\n",
       "      <td>45.000000</td>\n",
       "      <td>0</td>\n",
       "    </tr>\n",
       "    <tr>\n",
       "      <th>910</th>\n",
       "      <td>g989</td>\n",
       "      <td>Propriva</td>\n",
       "      <td>Female</td>\n",
       "      <td>21</td>\n",
       "      <td>26</td>\n",
       "      <td>5</td>\n",
       "      <td>48.786801</td>\n",
       "      <td>0</td>\n",
       "    </tr>\n",
       "    <tr>\n",
       "      <th>911</th>\n",
       "      <td>g989</td>\n",
       "      <td>Propriva</td>\n",
       "      <td>Female</td>\n",
       "      <td>21</td>\n",
       "      <td>26</td>\n",
       "      <td>5</td>\n",
       "      <td>47.570392</td>\n",
       "      <td>0</td>\n",
       "    </tr>\n",
       "    <tr>\n",
       "      <th>912</th>\n",
       "      <td>g989</td>\n",
       "      <td>Propriva</td>\n",
       "      <td>Female</td>\n",
       "      <td>21</td>\n",
       "      <td>26</td>\n",
       "      <td>10</td>\n",
       "      <td>51.745156</td>\n",
       "      <td>0</td>\n",
       "    </tr>\n",
       "    <tr>\n",
       "      <th>913</th>\n",
       "      <td>g989</td>\n",
       "      <td>Propriva</td>\n",
       "      <td>Female</td>\n",
       "      <td>21</td>\n",
       "      <td>26</td>\n",
       "      <td>10</td>\n",
       "      <td>49.880528</td>\n",
       "      <td>0</td>\n",
       "    </tr>\n",
       "    <tr>\n",
       "      <th>914</th>\n",
       "      <td>g989</td>\n",
       "      <td>Propriva</td>\n",
       "      <td>Female</td>\n",
       "      <td>21</td>\n",
       "      <td>26</td>\n",
       "      <td>15</td>\n",
       "      <td>51.325852</td>\n",
       "      <td>1</td>\n",
       "    </tr>\n",
       "    <tr>\n",
       "      <th>915</th>\n",
       "      <td>g989</td>\n",
       "      <td>Propriva</td>\n",
       "      <td>Female</td>\n",
       "      <td>21</td>\n",
       "      <td>26</td>\n",
       "      <td>15</td>\n",
       "      <td>53.442020</td>\n",
       "      <td>0</td>\n",
       "    </tr>\n",
       "    <tr>\n",
       "      <th>916</th>\n",
       "      <td>g989</td>\n",
       "      <td>Propriva</td>\n",
       "      <td>Female</td>\n",
       "      <td>21</td>\n",
       "      <td>26</td>\n",
       "      <td>20</td>\n",
       "      <td>55.326122</td>\n",
       "      <td>1</td>\n",
       "    </tr>\n",
       "    <tr>\n",
       "      <th>917</th>\n",
       "      <td>g989</td>\n",
       "      <td>Propriva</td>\n",
       "      <td>Female</td>\n",
       "      <td>21</td>\n",
       "      <td>26</td>\n",
       "      <td>20</td>\n",
       "      <td>54.657650</td>\n",
       "      <td>1</td>\n",
       "    </tr>\n",
       "    <tr>\n",
       "      <th>918</th>\n",
       "      <td>g989</td>\n",
       "      <td>Propriva</td>\n",
       "      <td>Female</td>\n",
       "      <td>21</td>\n",
       "      <td>26</td>\n",
       "      <td>25</td>\n",
       "      <td>56.045564</td>\n",
       "      <td>1</td>\n",
       "    </tr>\n",
       "    <tr>\n",
       "      <th>919</th>\n",
       "      <td>g989</td>\n",
       "      <td>Propriva</td>\n",
       "      <td>Female</td>\n",
       "      <td>21</td>\n",
       "      <td>26</td>\n",
       "      <td>30</td>\n",
       "      <td>59.082294</td>\n",
       "      <td>1</td>\n",
       "    </tr>\n",
       "    <tr>\n",
       "      <th>920</th>\n",
       "      <td>g989</td>\n",
       "      <td>Propriva</td>\n",
       "      <td>Female</td>\n",
       "      <td>21</td>\n",
       "      <td>26</td>\n",
       "      <td>35</td>\n",
       "      <td>62.570880</td>\n",
       "      <td>2</td>\n",
       "    </tr>\n",
       "  </tbody>\n",
       "</table>\n",
       "</div>"
      ],
      "text/plain": [
       "    Mouse ID Drug Regimen     Sex  Age_months  Weight (g)  Timepoint  \\\n",
       "908     g989     Propriva  Female          21          26          0   \n",
       "909     g989     Propriva  Female          21          26          0   \n",
       "910     g989     Propriva  Female          21          26          5   \n",
       "911     g989     Propriva  Female          21          26          5   \n",
       "912     g989     Propriva  Female          21          26         10   \n",
       "913     g989     Propriva  Female          21          26         10   \n",
       "914     g989     Propriva  Female          21          26         15   \n",
       "915     g989     Propriva  Female          21          26         15   \n",
       "916     g989     Propriva  Female          21          26         20   \n",
       "917     g989     Propriva  Female          21          26         20   \n",
       "918     g989     Propriva  Female          21          26         25   \n",
       "919     g989     Propriva  Female          21          26         30   \n",
       "920     g989     Propriva  Female          21          26         35   \n",
       "\n",
       "     Tumor Volume (mm3)  Metastatic Sites  \n",
       "908           45.000000                 0  \n",
       "909           45.000000                 0  \n",
       "910           48.786801                 0  \n",
       "911           47.570392                 0  \n",
       "912           51.745156                 0  \n",
       "913           49.880528                 0  \n",
       "914           51.325852                 1  \n",
       "915           53.442020                 0  \n",
       "916           55.326122                 1  \n",
       "917           54.657650                 1  \n",
       "918           56.045564                 1  \n",
       "919           59.082294                 1  \n",
       "920           62.570880                 2  "
      ]
     },
     "execution_count": 99,
     "metadata": {},
     "output_type": "execute_result"
    }
   ],
   "source": [
    "# Optional: Get all the data for the duplicate mouse ID. \n",
    "#duplicatemtp()\n",
    "#still thinking about this how?desde dir unido,leer info por filas de raton en particular\n",
    "#df2 = df[df['B']==\"PhD\"].......df.loc?????\n",
    "#https://stackoverflow.com/questions/33042777/removing-duplicates-from-pandas-dataframe-with-condition-for-retaining-original\n",
    "merged.loc[merged['Mouse ID']==duplicatemtp[0],:]"
   ]
  },
  {
   "cell_type": "code",
   "execution_count": 5,
   "metadata": {},
   "outputs": [],
   "source": [
    "# Create a clean DataFrame by dropping the duplicate mouse by its ID.\n",
    "#df[(df['Train'] != 'DeutscheBahn') & (df['Train'] != 'SNCF')], how to use this?\n",
    "#got this from https://stackoverflow.com/questions/34397982/pandas-dataframe-access-multiple-items-with-not-equal-to/34398006\n",
    "#cleanmerged=merged.loc[merged[\"Mouse ID\"]]?? path? = df['Train']\n",
    "#!= 'DeutscheBahn') = != 'g989'????\n",
    "#& (df['Train'] != 'SNCF')] = ????? do i need this part? \n",
    "cleanmerged=merged.loc[merged[\"Mouse ID\"]!= 'g989']\n",
    "#should have 248 after taking g989 out"
   ]
  },
  {
   "cell_type": "code",
   "execution_count": 9,
   "metadata": {},
   "outputs": [
    {
     "data": {
      "text/plain": [
       "248"
      ]
     },
     "execution_count": 9,
     "metadata": {},
     "output_type": "execute_result"
    }
   ],
   "source": [
    "# Checking the number of mice in the clean DataFrame.\n",
    "M_count2=cleanmerged['Mouse ID'].nunique() #missing something \n",
    "M_count2 # keep missing this part for display"
   ]
  },
  {
   "cell_type": "markdown",
   "metadata": {},
   "source": [
    "## Summary Statistics"
   ]
  },
  {
   "cell_type": "code",
   "execution_count": 14,
   "metadata": {},
   "outputs": [
    {
     "data": {
      "text/html": [
       "<style  type=\"text/css\" >\n",
       "</style><table id=\"T_8498ce4e_15aa_11eb_97bf_acde48001122\" ><thead>    <tr>        <th class=\"blank level0\" ></th>        <th class=\"col_heading level0 col0\" >Mean</th>        <th class=\"col_heading level0 col1\" >Median</th>        <th class=\"col_heading level0 col2\" >Variance</th>        <th class=\"col_heading level0 col3\" >Stddev</th>        <th class=\"col_heading level0 col4\" >Sem</th>    </tr>    <tr>        <th class=\"index_name level0\" >Drug Regimen</th>        <th class=\"blank\" ></th>        <th class=\"blank\" ></th>        <th class=\"blank\" ></th>        <th class=\"blank\" ></th>        <th class=\"blank\" ></th>    </tr></thead><tbody>\n",
       "                <tr>\n",
       "                        <th id=\"T_8498ce4e_15aa_11eb_97bf_acde48001122level0_row0\" class=\"row_heading level0 row0\" >Capomulin</th>\n",
       "                        <td id=\"T_8498ce4e_15aa_11eb_97bf_acde48001122row0_col0\" class=\"data row0 col0\" >40.676</td>\n",
       "                        <td id=\"T_8498ce4e_15aa_11eb_97bf_acde48001122row0_col1\" class=\"data row0 col1\" >41.558</td>\n",
       "                        <td id=\"T_8498ce4e_15aa_11eb_97bf_acde48001122row0_col2\" class=\"data row0 col2\" >24.948</td>\n",
       "                        <td id=\"T_8498ce4e_15aa_11eb_97bf_acde48001122row0_col3\" class=\"data row0 col3\" >4.995</td>\n",
       "                        <td id=\"T_8498ce4e_15aa_11eb_97bf_acde48001122row0_col4\" class=\"data row0 col4\" >0.329</td>\n",
       "            </tr>\n",
       "            <tr>\n",
       "                        <th id=\"T_8498ce4e_15aa_11eb_97bf_acde48001122level0_row1\" class=\"row_heading level0 row1\" >Ceftamin</th>\n",
       "                        <td id=\"T_8498ce4e_15aa_11eb_97bf_acde48001122row1_col0\" class=\"data row1 col0\" >52.591</td>\n",
       "                        <td id=\"T_8498ce4e_15aa_11eb_97bf_acde48001122row1_col1\" class=\"data row1 col1\" >51.776</td>\n",
       "                        <td id=\"T_8498ce4e_15aa_11eb_97bf_acde48001122row1_col2\" class=\"data row1 col2\" >39.290</td>\n",
       "                        <td id=\"T_8498ce4e_15aa_11eb_97bf_acde48001122row1_col3\" class=\"data row1 col3\" >6.268</td>\n",
       "                        <td id=\"T_8498ce4e_15aa_11eb_97bf_acde48001122row1_col4\" class=\"data row1 col4\" >0.470</td>\n",
       "            </tr>\n",
       "            <tr>\n",
       "                        <th id=\"T_8498ce4e_15aa_11eb_97bf_acde48001122level0_row2\" class=\"row_heading level0 row2\" >Infubinol</th>\n",
       "                        <td id=\"T_8498ce4e_15aa_11eb_97bf_acde48001122row2_col0\" class=\"data row2 col0\" >52.885</td>\n",
       "                        <td id=\"T_8498ce4e_15aa_11eb_97bf_acde48001122row2_col1\" class=\"data row2 col1\" >51.821</td>\n",
       "                        <td id=\"T_8498ce4e_15aa_11eb_97bf_acde48001122row2_col2\" class=\"data row2 col2\" >43.129</td>\n",
       "                        <td id=\"T_8498ce4e_15aa_11eb_97bf_acde48001122row2_col3\" class=\"data row2 col3\" >6.567</td>\n",
       "                        <td id=\"T_8498ce4e_15aa_11eb_97bf_acde48001122row2_col4\" class=\"data row2 col4\" >0.492</td>\n",
       "            </tr>\n",
       "            <tr>\n",
       "                        <th id=\"T_8498ce4e_15aa_11eb_97bf_acde48001122level0_row3\" class=\"row_heading level0 row3\" >Ketapril</th>\n",
       "                        <td id=\"T_8498ce4e_15aa_11eb_97bf_acde48001122row3_col0\" class=\"data row3 col0\" >55.236</td>\n",
       "                        <td id=\"T_8498ce4e_15aa_11eb_97bf_acde48001122row3_col1\" class=\"data row3 col1\" >53.699</td>\n",
       "                        <td id=\"T_8498ce4e_15aa_11eb_97bf_acde48001122row3_col2\" class=\"data row3 col2\" >68.554</td>\n",
       "                        <td id=\"T_8498ce4e_15aa_11eb_97bf_acde48001122row3_col3\" class=\"data row3 col3\" >8.280</td>\n",
       "                        <td id=\"T_8498ce4e_15aa_11eb_97bf_acde48001122row3_col4\" class=\"data row3 col4\" >0.604</td>\n",
       "            </tr>\n",
       "            <tr>\n",
       "                        <th id=\"T_8498ce4e_15aa_11eb_97bf_acde48001122level0_row4\" class=\"row_heading level0 row4\" >Naftisol</th>\n",
       "                        <td id=\"T_8498ce4e_15aa_11eb_97bf_acde48001122row4_col0\" class=\"data row4 col0\" >54.332</td>\n",
       "                        <td id=\"T_8498ce4e_15aa_11eb_97bf_acde48001122row4_col1\" class=\"data row4 col1\" >52.509</td>\n",
       "                        <td id=\"T_8498ce4e_15aa_11eb_97bf_acde48001122row4_col2\" class=\"data row4 col2\" >66.173</td>\n",
       "                        <td id=\"T_8498ce4e_15aa_11eb_97bf_acde48001122row4_col3\" class=\"data row4 col3\" >8.135</td>\n",
       "                        <td id=\"T_8498ce4e_15aa_11eb_97bf_acde48001122row4_col4\" class=\"data row4 col4\" >0.596</td>\n",
       "            </tr>\n",
       "            <tr>\n",
       "                        <th id=\"T_8498ce4e_15aa_11eb_97bf_acde48001122level0_row5\" class=\"row_heading level0 row5\" >Placebo</th>\n",
       "                        <td id=\"T_8498ce4e_15aa_11eb_97bf_acde48001122row5_col0\" class=\"data row5 col0\" >54.034</td>\n",
       "                        <td id=\"T_8498ce4e_15aa_11eb_97bf_acde48001122row5_col1\" class=\"data row5 col1\" >52.289</td>\n",
       "                        <td id=\"T_8498ce4e_15aa_11eb_97bf_acde48001122row5_col2\" class=\"data row5 col2\" >61.168</td>\n",
       "                        <td id=\"T_8498ce4e_15aa_11eb_97bf_acde48001122row5_col3\" class=\"data row5 col3\" >7.821</td>\n",
       "                        <td id=\"T_8498ce4e_15aa_11eb_97bf_acde48001122row5_col4\" class=\"data row5 col4\" >0.581</td>\n",
       "            </tr>\n",
       "            <tr>\n",
       "                        <th id=\"T_8498ce4e_15aa_11eb_97bf_acde48001122level0_row6\" class=\"row_heading level0 row6\" >Propriva</th>\n",
       "                        <td id=\"T_8498ce4e_15aa_11eb_97bf_acde48001122row6_col0\" class=\"data row6 col0\" >52.321</td>\n",
       "                        <td id=\"T_8498ce4e_15aa_11eb_97bf_acde48001122row6_col1\" class=\"data row6 col1\" >50.446</td>\n",
       "                        <td id=\"T_8498ce4e_15aa_11eb_97bf_acde48001122row6_col2\" class=\"data row6 col2\" >43.852</td>\n",
       "                        <td id=\"T_8498ce4e_15aa_11eb_97bf_acde48001122row6_col3\" class=\"data row6 col3\" >6.622</td>\n",
       "                        <td id=\"T_8498ce4e_15aa_11eb_97bf_acde48001122row6_col4\" class=\"data row6 col4\" >0.544</td>\n",
       "            </tr>\n",
       "            <tr>\n",
       "                        <th id=\"T_8498ce4e_15aa_11eb_97bf_acde48001122level0_row7\" class=\"row_heading level0 row7\" >Ramicane</th>\n",
       "                        <td id=\"T_8498ce4e_15aa_11eb_97bf_acde48001122row7_col0\" class=\"data row7 col0\" >40.217</td>\n",
       "                        <td id=\"T_8498ce4e_15aa_11eb_97bf_acde48001122row7_col1\" class=\"data row7 col1\" >40.673</td>\n",
       "                        <td id=\"T_8498ce4e_15aa_11eb_97bf_acde48001122row7_col2\" class=\"data row7 col2\" >23.487</td>\n",
       "                        <td id=\"T_8498ce4e_15aa_11eb_97bf_acde48001122row7_col3\" class=\"data row7 col3\" >4.846</td>\n",
       "                        <td id=\"T_8498ce4e_15aa_11eb_97bf_acde48001122row7_col4\" class=\"data row7 col4\" >0.321</td>\n",
       "            </tr>\n",
       "            <tr>\n",
       "                        <th id=\"T_8498ce4e_15aa_11eb_97bf_acde48001122level0_row8\" class=\"row_heading level0 row8\" >Stelasyn</th>\n",
       "                        <td id=\"T_8498ce4e_15aa_11eb_97bf_acde48001122row8_col0\" class=\"data row8 col0\" >54.233</td>\n",
       "                        <td id=\"T_8498ce4e_15aa_11eb_97bf_acde48001122row8_col1\" class=\"data row8 col1\" >52.432</td>\n",
       "                        <td id=\"T_8498ce4e_15aa_11eb_97bf_acde48001122row8_col2\" class=\"data row8 col2\" >59.451</td>\n",
       "                        <td id=\"T_8498ce4e_15aa_11eb_97bf_acde48001122row8_col3\" class=\"data row8 col3\" >7.710</td>\n",
       "                        <td id=\"T_8498ce4e_15aa_11eb_97bf_acde48001122row8_col4\" class=\"data row8 col4\" >0.573</td>\n",
       "            </tr>\n",
       "            <tr>\n",
       "                        <th id=\"T_8498ce4e_15aa_11eb_97bf_acde48001122level0_row9\" class=\"row_heading level0 row9\" >Zoniferol</th>\n",
       "                        <td id=\"T_8498ce4e_15aa_11eb_97bf_acde48001122row9_col0\" class=\"data row9 col0\" >53.237</td>\n",
       "                        <td id=\"T_8498ce4e_15aa_11eb_97bf_acde48001122row9_col1\" class=\"data row9 col1\" >51.818</td>\n",
       "                        <td id=\"T_8498ce4e_15aa_11eb_97bf_acde48001122row9_col2\" class=\"data row9 col2\" >48.533</td>\n",
       "                        <td id=\"T_8498ce4e_15aa_11eb_97bf_acde48001122row9_col3\" class=\"data row9 col3\" >6.967</td>\n",
       "                        <td id=\"T_8498ce4e_15aa_11eb_97bf_acde48001122row9_col4\" class=\"data row9 col4\" >0.516</td>\n",
       "            </tr>\n",
       "    </tbody></table>"
      ],
      "text/plain": [
       "<pandas.io.formats.style.Styler at 0x7fcc2ac7cf70>"
      ]
     },
     "execution_count": 14,
     "metadata": {},
     "output_type": "execute_result"
    }
   ],
   "source": [
    "# Generate a summary statistics table of mean, median, variance, standard deviation, and SEM of the tumor volume for each regimen\n",
    "Drougregimen=cleanmerged.groupby('Drug Regimen')\n",
    "# Use groupby and summary statistical methods to calculate the following properties of each drug regimen: \n",
    "# mean, median, variance, standard deviation, and SEM of the tumor volume. \n",
    "# Assemble the resulting series into a single summary dataframe.\n",
    "SummaryTV=pd.DataFrame({\"Mean\":Drougregimen['Tumor Volume (mm3)'].mean(),\n",
    "                       \"Median\":Drougregimen['Tumor Volume (mm3)'].median(),\n",
    "                       \"Variance\":Drougregimen['Tumor Volume (mm3)'].var(),\n",
    "                       \"Stddev\":Drougregimen['Tumor Volume (mm3)'].std(),\n",
    "                       \"Sem\":Drougregimen['Tumor Volume (mm3)'].sem()})\n",
    "SummaryTV.style.format({'Mean': \"{:.3f}\",'Median': \"{:.3f}\",'Variance': \"{:.3f}\",'Stddev': \"{:.3f}\",'Sem': \"{:.3f}\"})\n",
    "#pandasHW Summary.style.format({'average price': \"${:.2f}\",'total revenue': \"${:,.2f}\"})"
   ]
  },
  {
   "cell_type": "code",
   "execution_count": 77,
   "metadata": {},
   "outputs": [
    {
     "data": {
      "text/html": [
       "<style  type=\"text/css\" >\n",
       "</style><table id=\"T_c794fd7a_162d_11eb_97bf_acde48001122\" ><thead>    <tr>        <th class=\"blank level0\" ></th>        <th class=\"col_heading level0 col0\" colspan=5>Tumor Volume (mm3)</th>    </tr>    <tr>        <th class=\"blank level1\" ></th>        <th class=\"col_heading level1 col0\" >mean</th>        <th class=\"col_heading level1 col1\" >median</th>        <th class=\"col_heading level1 col2\" >var</th>        <th class=\"col_heading level1 col3\" >std</th>        <th class=\"col_heading level1 col4\" >sem</th>    </tr>    <tr>        <th class=\"index_name level0\" >Drug Regimen</th>        <th class=\"blank\" ></th>        <th class=\"blank\" ></th>        <th class=\"blank\" ></th>        <th class=\"blank\" ></th>        <th class=\"blank\" ></th>    </tr></thead><tbody>\n",
       "                <tr>\n",
       "                        <th id=\"T_c794fd7a_162d_11eb_97bf_acde48001122level0_row0\" class=\"row_heading level0 row0\" >Capomulin</th>\n",
       "                        <td id=\"T_c794fd7a_162d_11eb_97bf_acde48001122row0_col0\" class=\"data row0 col0\" >40.675741</td>\n",
       "                        <td id=\"T_c794fd7a_162d_11eb_97bf_acde48001122row0_col1\" class=\"data row0 col1\" >41.557809</td>\n",
       "                        <td id=\"T_c794fd7a_162d_11eb_97bf_acde48001122row0_col2\" class=\"data row0 col2\" >24.947764</td>\n",
       "                        <td id=\"T_c794fd7a_162d_11eb_97bf_acde48001122row0_col3\" class=\"data row0 col3\" >4.994774</td>\n",
       "                        <td id=\"T_c794fd7a_162d_11eb_97bf_acde48001122row0_col4\" class=\"data row0 col4\" >0.329346</td>\n",
       "            </tr>\n",
       "            <tr>\n",
       "                        <th id=\"T_c794fd7a_162d_11eb_97bf_acde48001122level0_row1\" class=\"row_heading level0 row1\" >Ceftamin</th>\n",
       "                        <td id=\"T_c794fd7a_162d_11eb_97bf_acde48001122row1_col0\" class=\"data row1 col0\" >52.591172</td>\n",
       "                        <td id=\"T_c794fd7a_162d_11eb_97bf_acde48001122row1_col1\" class=\"data row1 col1\" >51.776157</td>\n",
       "                        <td id=\"T_c794fd7a_162d_11eb_97bf_acde48001122row1_col2\" class=\"data row1 col2\" >39.290177</td>\n",
       "                        <td id=\"T_c794fd7a_162d_11eb_97bf_acde48001122row1_col3\" class=\"data row1 col3\" >6.268188</td>\n",
       "                        <td id=\"T_c794fd7a_162d_11eb_97bf_acde48001122row1_col4\" class=\"data row1 col4\" >0.469821</td>\n",
       "            </tr>\n",
       "            <tr>\n",
       "                        <th id=\"T_c794fd7a_162d_11eb_97bf_acde48001122level0_row2\" class=\"row_heading level0 row2\" >Infubinol</th>\n",
       "                        <td id=\"T_c794fd7a_162d_11eb_97bf_acde48001122row2_col0\" class=\"data row2 col0\" >52.884795</td>\n",
       "                        <td id=\"T_c794fd7a_162d_11eb_97bf_acde48001122row2_col1\" class=\"data row2 col1\" >51.820584</td>\n",
       "                        <td id=\"T_c794fd7a_162d_11eb_97bf_acde48001122row2_col2\" class=\"data row2 col2\" >43.128684</td>\n",
       "                        <td id=\"T_c794fd7a_162d_11eb_97bf_acde48001122row2_col3\" class=\"data row2 col3\" >6.567243</td>\n",
       "                        <td id=\"T_c794fd7a_162d_11eb_97bf_acde48001122row2_col4\" class=\"data row2 col4\" >0.492236</td>\n",
       "            </tr>\n",
       "            <tr>\n",
       "                        <th id=\"T_c794fd7a_162d_11eb_97bf_acde48001122level0_row3\" class=\"row_heading level0 row3\" >Ketapril</th>\n",
       "                        <td id=\"T_c794fd7a_162d_11eb_97bf_acde48001122row3_col0\" class=\"data row3 col0\" >55.235638</td>\n",
       "                        <td id=\"T_c794fd7a_162d_11eb_97bf_acde48001122row3_col1\" class=\"data row3 col1\" >53.698743</td>\n",
       "                        <td id=\"T_c794fd7a_162d_11eb_97bf_acde48001122row3_col2\" class=\"data row3 col2\" >68.553577</td>\n",
       "                        <td id=\"T_c794fd7a_162d_11eb_97bf_acde48001122row3_col3\" class=\"data row3 col3\" >8.279709</td>\n",
       "                        <td id=\"T_c794fd7a_162d_11eb_97bf_acde48001122row3_col4\" class=\"data row3 col4\" >0.603860</td>\n",
       "            </tr>\n",
       "            <tr>\n",
       "                        <th id=\"T_c794fd7a_162d_11eb_97bf_acde48001122level0_row4\" class=\"row_heading level0 row4\" >Naftisol</th>\n",
       "                        <td id=\"T_c794fd7a_162d_11eb_97bf_acde48001122row4_col0\" class=\"data row4 col0\" >54.331565</td>\n",
       "                        <td id=\"T_c794fd7a_162d_11eb_97bf_acde48001122row4_col1\" class=\"data row4 col1\" >52.509285</td>\n",
       "                        <td id=\"T_c794fd7a_162d_11eb_97bf_acde48001122row4_col2\" class=\"data row4 col2\" >66.173479</td>\n",
       "                        <td id=\"T_c794fd7a_162d_11eb_97bf_acde48001122row4_col3\" class=\"data row4 col3\" >8.134708</td>\n",
       "                        <td id=\"T_c794fd7a_162d_11eb_97bf_acde48001122row4_col4\" class=\"data row4 col4\" >0.596466</td>\n",
       "            </tr>\n",
       "            <tr>\n",
       "                        <th id=\"T_c794fd7a_162d_11eb_97bf_acde48001122level0_row5\" class=\"row_heading level0 row5\" >Placebo</th>\n",
       "                        <td id=\"T_c794fd7a_162d_11eb_97bf_acde48001122row5_col0\" class=\"data row5 col0\" >54.033581</td>\n",
       "                        <td id=\"T_c794fd7a_162d_11eb_97bf_acde48001122row5_col1\" class=\"data row5 col1\" >52.288934</td>\n",
       "                        <td id=\"T_c794fd7a_162d_11eb_97bf_acde48001122row5_col2\" class=\"data row5 col2\" >61.168083</td>\n",
       "                        <td id=\"T_c794fd7a_162d_11eb_97bf_acde48001122row5_col3\" class=\"data row5 col3\" >7.821003</td>\n",
       "                        <td id=\"T_c794fd7a_162d_11eb_97bf_acde48001122row5_col4\" class=\"data row5 col4\" >0.581331</td>\n",
       "            </tr>\n",
       "            <tr>\n",
       "                        <th id=\"T_c794fd7a_162d_11eb_97bf_acde48001122level0_row6\" class=\"row_heading level0 row6\" >Propriva</th>\n",
       "                        <td id=\"T_c794fd7a_162d_11eb_97bf_acde48001122row6_col0\" class=\"data row6 col0\" >52.320930</td>\n",
       "                        <td id=\"T_c794fd7a_162d_11eb_97bf_acde48001122row6_col1\" class=\"data row6 col1\" >50.446266</td>\n",
       "                        <td id=\"T_c794fd7a_162d_11eb_97bf_acde48001122row6_col2\" class=\"data row6 col2\" >43.852013</td>\n",
       "                        <td id=\"T_c794fd7a_162d_11eb_97bf_acde48001122row6_col3\" class=\"data row6 col3\" >6.622085</td>\n",
       "                        <td id=\"T_c794fd7a_162d_11eb_97bf_acde48001122row6_col4\" class=\"data row6 col4\" >0.544332</td>\n",
       "            </tr>\n",
       "            <tr>\n",
       "                        <th id=\"T_c794fd7a_162d_11eb_97bf_acde48001122level0_row7\" class=\"row_heading level0 row7\" >Ramicane</th>\n",
       "                        <td id=\"T_c794fd7a_162d_11eb_97bf_acde48001122row7_col0\" class=\"data row7 col0\" >40.216745</td>\n",
       "                        <td id=\"T_c794fd7a_162d_11eb_97bf_acde48001122row7_col1\" class=\"data row7 col1\" >40.673236</td>\n",
       "                        <td id=\"T_c794fd7a_162d_11eb_97bf_acde48001122row7_col2\" class=\"data row7 col2\" >23.486704</td>\n",
       "                        <td id=\"T_c794fd7a_162d_11eb_97bf_acde48001122row7_col3\" class=\"data row7 col3\" >4.846308</td>\n",
       "                        <td id=\"T_c794fd7a_162d_11eb_97bf_acde48001122row7_col4\" class=\"data row7 col4\" >0.320955</td>\n",
       "            </tr>\n",
       "            <tr>\n",
       "                        <th id=\"T_c794fd7a_162d_11eb_97bf_acde48001122level0_row8\" class=\"row_heading level0 row8\" >Stelasyn</th>\n",
       "                        <td id=\"T_c794fd7a_162d_11eb_97bf_acde48001122row8_col0\" class=\"data row8 col0\" >54.233149</td>\n",
       "                        <td id=\"T_c794fd7a_162d_11eb_97bf_acde48001122row8_col1\" class=\"data row8 col1\" >52.431737</td>\n",
       "                        <td id=\"T_c794fd7a_162d_11eb_97bf_acde48001122row8_col2\" class=\"data row8 col2\" >59.450562</td>\n",
       "                        <td id=\"T_c794fd7a_162d_11eb_97bf_acde48001122row8_col3\" class=\"data row8 col3\" >7.710419</td>\n",
       "                        <td id=\"T_c794fd7a_162d_11eb_97bf_acde48001122row8_col4\" class=\"data row8 col4\" >0.573111</td>\n",
       "            </tr>\n",
       "            <tr>\n",
       "                        <th id=\"T_c794fd7a_162d_11eb_97bf_acde48001122level0_row9\" class=\"row_heading level0 row9\" >Zoniferol</th>\n",
       "                        <td id=\"T_c794fd7a_162d_11eb_97bf_acde48001122row9_col0\" class=\"data row9 col0\" >53.236507</td>\n",
       "                        <td id=\"T_c794fd7a_162d_11eb_97bf_acde48001122row9_col1\" class=\"data row9 col1\" >51.818479</td>\n",
       "                        <td id=\"T_c794fd7a_162d_11eb_97bf_acde48001122row9_col2\" class=\"data row9 col2\" >48.533355</td>\n",
       "                        <td id=\"T_c794fd7a_162d_11eb_97bf_acde48001122row9_col3\" class=\"data row9 col3\" >6.966589</td>\n",
       "                        <td id=\"T_c794fd7a_162d_11eb_97bf_acde48001122row9_col4\" class=\"data row9 col4\" >0.516398</td>\n",
       "            </tr>\n",
       "    </tbody></table>"
      ],
      "text/plain": [
       "<pandas.io.formats.style.Styler at 0x7fcc2f4821c0>"
      ]
     },
     "execution_count": 77,
     "metadata": {},
     "output_type": "execute_result"
    }
   ],
   "source": [
    "# Generate a summary statistics table of mean, median, variance, standard deviation, and SEM of the tumor volume for each regimen\n",
    "\n",
    "# Using the aggregation method, produce the same summary statistics in a single line\n",
    "SummaryTV2=cleanmerged.groupby('Drug Regimen').agg({'Tumor Volume (mm3)':['mean','median','var','std','sem']})\n",
    "#SummaryTV3=SummaryTV2.style.format({'mean':\"{:,.3f}\",'median':\"{:,.3f}\",'var':\"{:,.3f}\",'std':\"{:,.3f}\",'sem':\"{:,.3f}\"})\n",
    "#formatting not working\n",
    "SummaryTV3\n"
   ]
  },
  {
   "cell_type": "markdown",
   "metadata": {},
   "source": [
    "## Bar and Pie Charts"
   ]
  },
  {
   "cell_type": "code",
   "execution_count": 43,
   "metadata": {},
   "outputs": [
    {
     "data": {
      "text/plain": [
       "Text(0, 0.5, 'Number of Mice')"
      ]
     },
     "execution_count": 43,
     "metadata": {},
     "output_type": "execute_result"
    },
    {
     "data": {
      "image/png": "[encoded data removed]",
      "text/plain": [
       "<Figure size 432x288 with 1 Axes>"
      ]
     },
     "metadata": {
      "needs_background": "light"
     },
     "output_type": "display_data"
    }
   ],
   "source": [
    "# Generate a bar plot showing the total number of unique mice tested on each drug regimen using pandas.\n",
    "Drougregimen=cleanmerged.groupby('Drug Regimen')\n",
    "miceregimem=Drougregimen[\"Mouse ID\"].count().sort_values(ascending=True)\n",
    "regimenchart=miceregimem.plot(kind=\"bar\",title=\"Mice by drug regimen\")\n",
    "regimenchart.set_xlabel(\"Drug Regimen\")\n",
    "regimenchart.set_ylabel(\"Number of Mice\")"
   ]
  },
  {
   "cell_type": "code",
   "execution_count": 54,
   "metadata": {},
   "outputs": [
    {
     "data": {
      "text/plain": [
       "<function matplotlib.pyplot.show(*args, **kw)>"
      ]
     },
     "execution_count": 54,
     "metadata": {},
     "output_type": "execute_result"
    },
    {
     "data": {
      "image/png": "[encoded data removed]",
      "text/plain": [
       "<Figure size 432x288 with 1 Axes>"
      ]
     },
     "metadata": {
      "needs_background": "light"
     },
     "output_type": "display_data"
    }
   ],
   "source": [
    "# Generate a bar plot showing the total number of unique mice tested on each drug regimen using pyplot.\n",
    "#Drougregimen.plot(x=cleanmerged.groupby('Drug Regimen'),y=Drougregimen[\"Mouse ID\"].count().sort_values(ascending=True))\n",
    "x_axis=miceregimem.index\n",
    "plt.figure(figsize=(6,4))#https://www.earthdatascience.org/courses/scientists-guide-to-plotting-data-in-python/plot-with-matplotlib/introduction-to-matplotlib-plots/customize-plot-colors-labels-matplotlib/\n",
    "plt.bar(x_axis,miceregimem,color='steelblue',width=0.45)\n",
    "\n",
    "plt.title('Number of mice per Treatment')\n",
    "plt.ylabel('Number of Mice')\n",
    "plt.xlabel('Treatment')\n",
    "plt.xticks(rotation=60)\n",
    "plt.xlim(-.5,len(miceregimem)-.55)\n",
    "plt.show\n"
   ]
  },
  {
   "cell_type": "code",
   "execution_count": 65,
   "metadata": {},
   "outputs": [
    {
     "data": {
      "image/png": "[encoded data removed]",
      "text/plain": [
       "<Figure size 432x288 with 1 Axes>"
      ]
     },
     "metadata": {},
     "output_type": "display_data"
    }
   ],
   "source": [
    "# Generate a pie plot showing the distribution of female versus male mice using pandas\n",
    "bygender=cleanmerged.groupby('Sex')\n",
    "Mgen=bygender['Sex'].count()\n",
    "explode=(0.1,0)\n",
    "colors=[\"orange\",\"steelblue\"]\n",
    "mgenplot=Mgen.plot(kind='pie',title='Distribution by Sex',subplots=False,autopct='%1.2f%%',colors=colors,explode=explode,shadow=True, startangle=140)\n",
    "\n"
   ]
  },
  {
   "cell_type": "code",
   "execution_count": 85,
   "metadata": {},
   "outputs": [
    {
     "data": {
      "image/png": "[encoded data removed]",
      "text/plain": [
       "<Figure size 432x288 with 1 Axes>"
      ]
     },
     "metadata": {},
     "output_type": "display_data"
    }
   ],
   "source": [
    "# Generate a pie plot showing the distribution of female versus male mice using pyplot\n",
    "gendcount=bygender['Sex'].count().tolist()\n",
    "genlab=['Male','Female']\n",
    "plt.pie(gendcount,labels=genlab,autopct='%1.2f%%',colors=colors,explode=explode,shadow=True, startangle=155)\n",
    "plt.title('Distribution by Sex')\n",
    "plt.show()"
   ]
  },
  {
   "cell_type": "markdown",
   "metadata": {},
   "source": [
    "## Quartiles, Outliers and Boxplots"
   ]
  },
  {
   "cell_type": "code",
   "execution_count": 100,
   "metadata": {},
   "outputs": [
    {
     "data": {
      "text/html": [
       "<div>\n",
       "<style scoped>\n",
       "    .dataframe tbody tr th:only-of-type {\n",
       "        vertical-align: middle;\n",
       "    }\n",
       "\n",
       "    .dataframe tbody tr th {\n",
       "        vertical-align: top;\n",
       "    }\n",
       "\n",
       "    .dataframe thead th {\n",
       "        text-align: right;\n",
       "    }\n",
       "</style>\n",
       "<table border=\"1\" class=\"dataframe\">\n",
       "  <thead>\n",
       "    <tr style=\"text-align: right;\">\n",
       "      <th></th>\n",
       "      <th>Mouse ID</th>\n",
       "      <th>Timepoint</th>\n",
       "      <th>Drug Regimen</th>\n",
       "      <th>Sex</th>\n",
       "      <th>Age_months</th>\n",
       "      <th>Weight (g)</th>\n",
       "      <th>Tumor Volume (mm3)</th>\n",
       "      <th>Metastatic Sites</th>\n",
       "    </tr>\n",
       "  </thead>\n",
       "  <tbody>\n",
       "    <tr>\n",
       "      <th>0</th>\n",
       "      <td>a203</td>\n",
       "      <td>45</td>\n",
       "      <td>Infubinol</td>\n",
       "      <td>Female</td>\n",
       "      <td>20</td>\n",
       "      <td>23</td>\n",
       "      <td>67.973419</td>\n",
       "      <td>2</td>\n",
       "    </tr>\n",
       "    <tr>\n",
       "      <th>1</th>\n",
       "      <td>a251</td>\n",
       "      <td>45</td>\n",
       "      <td>Infubinol</td>\n",
       "      <td>Female</td>\n",
       "      <td>21</td>\n",
       "      <td>25</td>\n",
       "      <td>65.525743</td>\n",
       "      <td>1</td>\n",
       "    </tr>\n",
       "    <tr>\n",
       "      <th>2</th>\n",
       "      <td>a262</td>\n",
       "      <td>45</td>\n",
       "      <td>Placebo</td>\n",
       "      <td>Female</td>\n",
       "      <td>17</td>\n",
       "      <td>29</td>\n",
       "      <td>70.717621</td>\n",
       "      <td>4</td>\n",
       "    </tr>\n",
       "    <tr>\n",
       "      <th>3</th>\n",
       "      <td>a275</td>\n",
       "      <td>45</td>\n",
       "      <td>Ceftamin</td>\n",
       "      <td>Female</td>\n",
       "      <td>20</td>\n",
       "      <td>28</td>\n",
       "      <td>62.999356</td>\n",
       "      <td>3</td>\n",
       "    </tr>\n",
       "    <tr>\n",
       "      <th>4</th>\n",
       "      <td>a366</td>\n",
       "      <td>30</td>\n",
       "      <td>Stelasyn</td>\n",
       "      <td>Female</td>\n",
       "      <td>16</td>\n",
       "      <td>29</td>\n",
       "      <td>63.440686</td>\n",
       "      <td>1</td>\n",
       "    </tr>\n",
       "    <tr>\n",
       "      <th>...</th>\n",
       "      <td>...</td>\n",
       "      <td>...</td>\n",
       "      <td>...</td>\n",
       "      <td>...</td>\n",
       "      <td>...</td>\n",
       "      <td>...</td>\n",
       "      <td>...</td>\n",
       "      <td>...</td>\n",
       "    </tr>\n",
       "    <tr>\n",
       "      <th>243</th>\n",
       "      <td>z435</td>\n",
       "      <td>10</td>\n",
       "      <td>Propriva</td>\n",
       "      <td>Female</td>\n",
       "      <td>12</td>\n",
       "      <td>26</td>\n",
       "      <td>48.710661</td>\n",
       "      <td>0</td>\n",
       "    </tr>\n",
       "    <tr>\n",
       "      <th>244</th>\n",
       "      <td>z578</td>\n",
       "      <td>45</td>\n",
       "      <td>Ramicane</td>\n",
       "      <td>Male</td>\n",
       "      <td>11</td>\n",
       "      <td>16</td>\n",
       "      <td>30.638696</td>\n",
       "      <td>0</td>\n",
       "    </tr>\n",
       "    <tr>\n",
       "      <th>245</th>\n",
       "      <td>z581</td>\n",
       "      <td>45</td>\n",
       "      <td>Infubinol</td>\n",
       "      <td>Female</td>\n",
       "      <td>24</td>\n",
       "      <td>25</td>\n",
       "      <td>62.754451</td>\n",
       "      <td>3</td>\n",
       "    </tr>\n",
       "    <tr>\n",
       "      <th>246</th>\n",
       "      <td>z795</td>\n",
       "      <td>45</td>\n",
       "      <td>Naftisol</td>\n",
       "      <td>Female</td>\n",
       "      <td>13</td>\n",
       "      <td>29</td>\n",
       "      <td>65.741070</td>\n",
       "      <td>3</td>\n",
       "    </tr>\n",
       "    <tr>\n",
       "      <th>247</th>\n",
       "      <td>z969</td>\n",
       "      <td>45</td>\n",
       "      <td>Naftisol</td>\n",
       "      <td>Male</td>\n",
       "      <td>9</td>\n",
       "      <td>30</td>\n",
       "      <td>73.867845</td>\n",
       "      <td>4</td>\n",
       "    </tr>\n",
       "  </tbody>\n",
       "</table>\n",
       "<p>248 rows × 8 columns</p>\n",
       "</div>"
      ],
      "text/plain": [
       "    Mouse ID  Timepoint Drug Regimen     Sex  Age_months  Weight (g)  \\\n",
       "0       a203         45    Infubinol  Female          20          23   \n",
       "1       a251         45    Infubinol  Female          21          25   \n",
       "2       a262         45      Placebo  Female          17          29   \n",
       "3       a275         45     Ceftamin  Female          20          28   \n",
       "4       a366         30     Stelasyn  Female          16          29   \n",
       "..       ...        ...          ...     ...         ...         ...   \n",
       "243     z435         10     Propriva  Female          12          26   \n",
       "244     z578         45     Ramicane    Male          11          16   \n",
       "245     z581         45    Infubinol  Female          24          25   \n",
       "246     z795         45     Naftisol  Female          13          29   \n",
       "247     z969         45     Naftisol    Male           9          30   \n",
       "\n",
       "     Tumor Volume (mm3)  Metastatic Sites  \n",
       "0             67.973419                 2  \n",
       "1             65.525743                 1  \n",
       "2             70.717621                 4  \n",
       "3             62.999356                 3  \n",
       "4             63.440686                 1  \n",
       "..                  ...               ...  \n",
       "243           48.710661                 0  \n",
       "244           30.638696                 0  \n",
       "245           62.754451                 3  \n",
       "246           65.741070                 3  \n",
       "247           73.867845                 4  \n",
       "\n",
       "[248 rows x 8 columns]"
      ]
     },
     "execution_count": 100,
     "metadata": {},
     "output_type": "execute_result"
    }
   ],
   "source": [
    "# Calculate the final tumor volume of each mouse across four of the treatment regimens:  \n",
    "# Capomulin, Ramicane, Infubinol, and Ceftamin\n",
    "#acknowledge to Gary Jeter and Andrew Perez for their Infinite wisdom and support on this, rather annoying section.\n",
    "# Start by getting the last (greatest) timepoint for each mouse\n",
    "Maxtp=cleanmerged.groupby('Mouse ID')['Timepoint'].max()\n",
    "# Merge this group df with the original dataframe to get the tumor volume at the last timepoint\n",
    "#acknowledge to Gary Jeter and Andrew Perez for their Infinite wisdom and support on this, rather annoying section.\n",
    "Maxtpcleanmerged=pd.merge(Maxtp,cleanmerged,on=[\"Mouse ID\",\"Timepoint\"],how='inner')\n",
    "Maxtpcleanmerged"
   ]
  },
  {
   "cell_type": "code",
   "execution_count": null,
   "metadata": {},
   "outputs": [],
   "source": [
    "# Put treatments into a list for for loop (and later for plot labels)\n",
    "\n",
    "\n",
    "# Create empty list to fill with tumor vol data (for plotting)\n",
    "\n",
    "\n",
    "# Calculate the IQR and quantitatively determine if there are any potential outliers. \n",
    "\n",
    "    \n",
    "    # Locate the rows which contain mice on each drug and get the tumor volumes\n",
    "    \n",
    "    \n",
    "    # add subset \n",
    "    \n",
    "    \n",
    "    # Determine outliers using upper and lower bounds\n",
    "    "
   ]
  },
  {
   "cell_type": "code",
   "execution_count": null,
   "metadata": {},
   "outputs": [],
   "source": [
    "# Generate a box plot of the final tumor volume of each mouse across four regimens of interest\n"
   ]
  },
  {
   "cell_type": "markdown",
   "metadata": {},
   "source": [
    "## Line and Scatter Plots"
   ]
  },
  {
   "cell_type": "code",
   "execution_count": null,
   "metadata": {},
   "outputs": [],
   "source": [
    "# Generate a line plot of tumor volume vs. time point for a mouse treated with Capomulin\n"
   ]
  },
  {
   "cell_type": "code",
   "execution_count": null,
   "metadata": {},
   "outputs": [],
   "source": [
    "# Generate a scatter plot of average tumor volume vs. mouse weight for the Capomulin regimen\n"
   ]
  },
  {
   "cell_type": "markdown",
   "metadata": {},
   "source": [
    "## Correlation and Regression"
   ]
  },
  {
   "cell_type": "code",
   "execution_count": null,
   "metadata": {},
   "outputs": [],
   "source": [
    "# Calculate the correlation coefficient and linear regression model \n",
    "# for mouse weight and average tumor volume for the Capomulin regimen\n"
   ]
  },
  {
   "cell_type": "code",
   "execution_count": null,
   "metadata": {},
   "outputs": [],
   "source": []
  }
 ],
 "metadata": {
  "anaconda-cloud": {},
  "kernelspec": {
   "display_name": "Python 3",
   "language": "python",
   "name": "python3"
  },
  "language_info": {
   "codemirror_mode": {
    "name": "ipython",
    "version": 3
   },
   "file_extension": ".py",
   "mimetype": "text/x-python",
   "name": "python",
   "nbconvert_exporter": "python",
   "pygments_lexer": "ipython3",
   "version": "3.8.3"
  }
 },
 "nbformat": 4,
 "nbformat_minor": 4
}
