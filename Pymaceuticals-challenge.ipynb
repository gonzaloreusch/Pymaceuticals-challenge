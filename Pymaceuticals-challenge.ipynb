{
 "cells": [
  {
   "cell_type": "markdown",
   "metadata": {},
   "source": [
    "## Observations and Insights "
   ]
  },
  {
   "cell_type": "markdown",
   "metadata": {},
   "source": []
  },
  {
   "cell_type": "code",
   "execution_count": 1,
   "metadata": {},
   "outputs": [
    {
     "data": {
      "text/html": [
       "<div>\n",
       "<style scoped>\n",
       "    .dataframe tbody tr th:only-of-type {\n",
       "        vertical-align: middle;\n",
       "    }\n",
       "\n",
       "    .dataframe tbody tr th {\n",
       "        vertical-align: top;\n",
       "    }\n",
       "\n",
       "    .dataframe thead th {\n",
       "        text-align: right;\n",
       "    }\n",
       "</style>\n",
       "<table border=\"1\" class=\"dataframe\">\n",
       "  <thead>\n",
       "    <tr style=\"text-align: right;\">\n",
       "      <th></th>\n",
       "      <th>Mouse ID</th>\n",
       "      <th>Drug Regimen</th>\n",
       "      <th>Sex</th>\n",
       "      <th>Age_months</th>\n",
       "      <th>Weight (g)</th>\n",
       "      <th>Timepoint</th>\n",
       "      <th>Tumor Volume (mm3)</th>\n",
       "      <th>Metastatic Sites</th>\n",
       "    </tr>\n",
       "  </thead>\n",
       "  <tbody>\n",
       "    <tr>\n",
       "      <th>0</th>\n",
       "      <td>k403</td>\n",
       "      <td>Ramicane</td>\n",
       "      <td>Male</td>\n",
       "      <td>21</td>\n",
       "      <td>16</td>\n",
       "      <td>0</td>\n",
       "      <td>45.000000</td>\n",
       "      <td>0</td>\n",
       "    </tr>\n",
       "    <tr>\n",
       "      <th>1</th>\n",
       "      <td>k403</td>\n",
       "      <td>Ramicane</td>\n",
       "      <td>Male</td>\n",
       "      <td>21</td>\n",
       "      <td>16</td>\n",
       "      <td>5</td>\n",
       "      <td>38.825898</td>\n",
       "      <td>0</td>\n",
       "    </tr>\n",
       "    <tr>\n",
       "      <th>2</th>\n",
       "      <td>k403</td>\n",
       "      <td>Ramicane</td>\n",
       "      <td>Male</td>\n",
       "      <td>21</td>\n",
       "      <td>16</td>\n",
       "      <td>10</td>\n",
       "      <td>35.014271</td>\n",
       "      <td>1</td>\n",
       "    </tr>\n",
       "    <tr>\n",
       "      <th>3</th>\n",
       "      <td>k403</td>\n",
       "      <td>Ramicane</td>\n",
       "      <td>Male</td>\n",
       "      <td>21</td>\n",
       "      <td>16</td>\n",
       "      <td>15</td>\n",
       "      <td>34.223992</td>\n",
       "      <td>1</td>\n",
       "    </tr>\n",
       "    <tr>\n",
       "      <th>4</th>\n",
       "      <td>k403</td>\n",
       "      <td>Ramicane</td>\n",
       "      <td>Male</td>\n",
       "      <td>21</td>\n",
       "      <td>16</td>\n",
       "      <td>20</td>\n",
       "      <td>32.997729</td>\n",
       "      <td>1</td>\n",
       "    </tr>\n",
       "  </tbody>\n",
       "</table>\n",
       "</div>"
      ],
      "text/plain": [
       "  Mouse ID Drug Regimen   Sex  Age_months  Weight (g)  Timepoint  \\\n",
       "0     k403     Ramicane  Male          21          16          0   \n",
       "1     k403     Ramicane  Male          21          16          5   \n",
       "2     k403     Ramicane  Male          21          16         10   \n",
       "3     k403     Ramicane  Male          21          16         15   \n",
       "4     k403     Ramicane  Male          21          16         20   \n",
       "\n",
       "   Tumor Volume (mm3)  Metastatic Sites  \n",
       "0           45.000000                 0  \n",
       "1           38.825898                 0  \n",
       "2           35.014271                 1  \n",
       "3           34.223992                 1  \n",
       "4           32.997729                 1  "
      ]
     },
     "execution_count": 1,
     "metadata": {},
     "output_type": "execute_result"
    }
   ],
   "source": [
    "# Dependencies and Setup\n",
    "import matplotlib.pyplot as plt\n",
    "import pandas as pd\n",
    "import scipy.stats as st\n",
    "import numpy as np\n",
    "\n",
    "# Study data files\n",
    "mouse_metadata_path = \"data/Mouse_metadata.csv\"\n",
    "study_results_path = \"data/Study_results.csv\"\n",
    "\n",
    "# Read the mouse data and the study results\n",
    "mouse_metadata = pd.read_csv(mouse_metadata_path)\n",
    "study_results = pd.read_csv(study_results_path)\n",
    "#printmouse_metadata;study_results\n",
    "#mouse_metadata.head()\n",
    "#mouse_metadata['Mouse ID'].count #249\n",
    "#study_results.head()\n",
    "#study_results['Mouse ID'].count #1893\n",
    "\n",
    "# Combine the data into a single dataset\n",
    "merged=pd.merge(mouse_metadata,study_results,how='inner', on='Mouse ID')\n",
    "# Display the data table for preview\n",
    "merged.head()\n",
    " "
   ]
  },
  {
   "cell_type": "code",
   "execution_count": 2,
   "metadata": {},
   "outputs": [
    {
     "data": {
      "text/plain": [
       "249"
      ]
     },
     "execution_count": 2,
     "metadata": {},
     "output_type": "execute_result"
    }
   ],
   "source": [
    "# Checking the number of mice.\n",
    "M_count=merged['Mouse ID'].nunique()\n",
    "M_count"
   ]
  },
  {
   "cell_type": "code",
   "execution_count": 3,
   "metadata": {},
   "outputs": [
    {
     "data": {
      "text/plain": [
       "'g989'"
      ]
     },
     "execution_count": 3,
     "metadata": {},
     "output_type": "execute_result"
    }
   ],
   "source": [
    "# Getting the duplicate mice by ID number that shows up for Mouse ID and Timepoint. \n",
    "#df=data origin.form to readdata.[{( dataorigin.what to look for.[{( where to look, criteria.tipo\n",
    "#https://pandas.pydata.org/pandas-docs/stable/reference/api/pandas.DataFrame.loc.html\n",
    "#duplicatemtp=merged.?????forma??[merged.duplicated([\"Mouse ID\",\"Timepoint\"])],??criteria??.nunique() not sure if nunique\n",
    "#nunique gives me the count... 1 i need to get the name thus nunique...but the way that shoes me the info is: array(['g989'], dtype=object), thus [0] im asking for first position on my []\n",
    "duplicatemtp=merged.loc[merged.duplicated([\"Mouse ID\",\"Timepoint\"]),\"Mouse ID\"].unique()\n",
    "duplicatemtp[0]"
   ]
  },
  {
   "cell_type": "code",
   "execution_count": 4,
   "metadata": {},
   "outputs": [],
   "source": [
    "# Optional: Get all the data for the duplicate mouse ID. \n",
    "#duplicatemtp()\n",
    "#still thinking about this how?\n"
   ]
  },
  {
   "cell_type": "code",
   "execution_count": 5,
   "metadata": {},
   "outputs": [],
   "source": [
    "# Create a clean DataFrame by dropping the duplicate mouse by its ID.\n",
    "#df[(df['Train'] != 'DeutscheBahn') & (df['Train'] != 'SNCF')], how to use this?\n",
    "#got this from https://stackoverflow.com/questions/34397982/pandas-dataframe-access-multiple-items-with-not-equal-to/34398006\n",
    "#cleanmerged=merged.loc[merged[\"Mouse ID\"]]?? path? = df['Train']\n",
    "#!= 'DeutscheBahn') = != 'g989'????\n",
    "#& (df['Train'] != 'SNCF')] = ????? do i need this part? \n",
    "cleanmerged=merged.loc[merged[\"Mouse ID\"]!= 'g989']\n",
    "#should have 248 after taking g989 out"
   ]
  },
  {
   "cell_type": "code",
   "execution_count": 9,
   "metadata": {},
   "outputs": [
    {
     "data": {
      "text/plain": [
       "248"
      ]
     },
     "execution_count": 9,
     "metadata": {},
     "output_type": "execute_result"
    }
   ],
   "source": [
    "# Checking the number of mice in the clean DataFrame.\n",
    "M_count2=cleanmerged['Mouse ID'].nunique() #missing something \n",
    "M_count2 # keep missing this part for display"
   ]
  },
  {
   "cell_type": "markdown",
   "metadata": {},
   "source": [
    "## Summary Statistics"
   ]
  },
  {
   "cell_type": "code",
   "execution_count": 14,
   "metadata": {},
   "outputs": [
    {
     "data": {
      "text/html": [
       "<style  type=\"text/css\" >\n",
       "</style><table id=\"T_8498ce4e_15aa_11eb_97bf_acde48001122\" ><thead>    <tr>        <th class=\"blank level0\" ></th>        <th class=\"col_heading level0 col0\" >Mean</th>        <th class=\"col_heading level0 col1\" >Median</th>        <th class=\"col_heading level0 col2\" >Variance</th>        <th class=\"col_heading level0 col3\" >Stddev</th>        <th class=\"col_heading level0 col4\" >Sem</th>    </tr>    <tr>        <th class=\"index_name level0\" >Drug Regimen</th>        <th class=\"blank\" ></th>        <th class=\"blank\" ></th>        <th class=\"blank\" ></th>        <th class=\"blank\" ></th>        <th class=\"blank\" ></th>    </tr></thead><tbody>\n",
       "                <tr>\n",
       "                        <th id=\"T_8498ce4e_15aa_11eb_97bf_acde48001122level0_row0\" class=\"row_heading level0 row0\" >Capomulin</th>\n",
       "                        <td id=\"T_8498ce4e_15aa_11eb_97bf_acde48001122row0_col0\" class=\"data row0 col0\" >40.676</td>\n",
       "                        <td id=\"T_8498ce4e_15aa_11eb_97bf_acde48001122row0_col1\" class=\"data row0 col1\" >41.558</td>\n",
       "                        <td id=\"T_8498ce4e_15aa_11eb_97bf_acde48001122row0_col2\" class=\"data row0 col2\" >24.948</td>\n",
       "                        <td id=\"T_8498ce4e_15aa_11eb_97bf_acde48001122row0_col3\" class=\"data row0 col3\" >4.995</td>\n",
       "                        <td id=\"T_8498ce4e_15aa_11eb_97bf_acde48001122row0_col4\" class=\"data row0 col4\" >0.329</td>\n",
       "            </tr>\n",
       "            <tr>\n",
       "                        <th id=\"T_8498ce4e_15aa_11eb_97bf_acde48001122level0_row1\" class=\"row_heading level0 row1\" >Ceftamin</th>\n",
       "                        <td id=\"T_8498ce4e_15aa_11eb_97bf_acde48001122row1_col0\" class=\"data row1 col0\" >52.591</td>\n",
       "                        <td id=\"T_8498ce4e_15aa_11eb_97bf_acde48001122row1_col1\" class=\"data row1 col1\" >51.776</td>\n",
       "                        <td id=\"T_8498ce4e_15aa_11eb_97bf_acde48001122row1_col2\" class=\"data row1 col2\" >39.290</td>\n",
       "                        <td id=\"T_8498ce4e_15aa_11eb_97bf_acde48001122row1_col3\" class=\"data row1 col3\" >6.268</td>\n",
       "                        <td id=\"T_8498ce4e_15aa_11eb_97bf_acde48001122row1_col4\" class=\"data row1 col4\" >0.470</td>\n",
       "            </tr>\n",
       "            <tr>\n",
       "                        <th id=\"T_8498ce4e_15aa_11eb_97bf_acde48001122level0_row2\" class=\"row_heading level0 row2\" >Infubinol</th>\n",
       "                        <td id=\"T_8498ce4e_15aa_11eb_97bf_acde48001122row2_col0\" class=\"data row2 col0\" >52.885</td>\n",
       "                        <td id=\"T_8498ce4e_15aa_11eb_97bf_acde48001122row2_col1\" class=\"data row2 col1\" >51.821</td>\n",
       "                        <td id=\"T_8498ce4e_15aa_11eb_97bf_acde48001122row2_col2\" class=\"data row2 col2\" >43.129</td>\n",
       "                        <td id=\"T_8498ce4e_15aa_11eb_97bf_acde48001122row2_col3\" class=\"data row2 col3\" >6.567</td>\n",
       "                        <td id=\"T_8498ce4e_15aa_11eb_97bf_acde48001122row2_col4\" class=\"data row2 col4\" >0.492</td>\n",
       "            </tr>\n",
       "            <tr>\n",
       "                        <th id=\"T_8498ce4e_15aa_11eb_97bf_acde48001122level0_row3\" class=\"row_heading level0 row3\" >Ketapril</th>\n",
       "                        <td id=\"T_8498ce4e_15aa_11eb_97bf_acde48001122row3_col0\" class=\"data row3 col0\" >55.236</td>\n",
       "                        <td id=\"T_8498ce4e_15aa_11eb_97bf_acde48001122row3_col1\" class=\"data row3 col1\" >53.699</td>\n",
       "                        <td id=\"T_8498ce4e_15aa_11eb_97bf_acde48001122row3_col2\" class=\"data row3 col2\" >68.554</td>\n",
       "                        <td id=\"T_8498ce4e_15aa_11eb_97bf_acde48001122row3_col3\" class=\"data row3 col3\" >8.280</td>\n",
       "                        <td id=\"T_8498ce4e_15aa_11eb_97bf_acde48001122row3_col4\" class=\"data row3 col4\" >0.604</td>\n",
       "            </tr>\n",
       "            <tr>\n",
       "                        <th id=\"T_8498ce4e_15aa_11eb_97bf_acde48001122level0_row4\" class=\"row_heading level0 row4\" >Naftisol</th>\n",
       "                        <td id=\"T_8498ce4e_15aa_11eb_97bf_acde48001122row4_col0\" class=\"data row4 col0\" >54.332</td>\n",
       "                        <td id=\"T_8498ce4e_15aa_11eb_97bf_acde48001122row4_col1\" class=\"data row4 col1\" >52.509</td>\n",
       "                        <td id=\"T_8498ce4e_15aa_11eb_97bf_acde48001122row4_col2\" class=\"data row4 col2\" >66.173</td>\n",
       "                        <td id=\"T_8498ce4e_15aa_11eb_97bf_acde48001122row4_col3\" class=\"data row4 col3\" >8.135</td>\n",
       "                        <td id=\"T_8498ce4e_15aa_11eb_97bf_acde48001122row4_col4\" class=\"data row4 col4\" >0.596</td>\n",
       "            </tr>\n",
       "            <tr>\n",
       "                        <th id=\"T_8498ce4e_15aa_11eb_97bf_acde48001122level0_row5\" class=\"row_heading level0 row5\" >Placebo</th>\n",
       "                        <td id=\"T_8498ce4e_15aa_11eb_97bf_acde48001122row5_col0\" class=\"data row5 col0\" >54.034</td>\n",
       "                        <td id=\"T_8498ce4e_15aa_11eb_97bf_acde48001122row5_col1\" class=\"data row5 col1\" >52.289</td>\n",
       "                        <td id=\"T_8498ce4e_15aa_11eb_97bf_acde48001122row5_col2\" class=\"data row5 col2\" >61.168</td>\n",
       "                        <td id=\"T_8498ce4e_15aa_11eb_97bf_acde48001122row5_col3\" class=\"data row5 col3\" >7.821</td>\n",
       "                        <td id=\"T_8498ce4e_15aa_11eb_97bf_acde48001122row5_col4\" class=\"data row5 col4\" >0.581</td>\n",
       "            </tr>\n",
       "            <tr>\n",
       "                        <th id=\"T_8498ce4e_15aa_11eb_97bf_acde48001122level0_row6\" class=\"row_heading level0 row6\" >Propriva</th>\n",
       "                        <td id=\"T_8498ce4e_15aa_11eb_97bf_acde48001122row6_col0\" class=\"data row6 col0\" >52.321</td>\n",
       "                        <td id=\"T_8498ce4e_15aa_11eb_97bf_acde48001122row6_col1\" class=\"data row6 col1\" >50.446</td>\n",
       "                        <td id=\"T_8498ce4e_15aa_11eb_97bf_acde48001122row6_col2\" class=\"data row6 col2\" >43.852</td>\n",
       "                        <td id=\"T_8498ce4e_15aa_11eb_97bf_acde48001122row6_col3\" class=\"data row6 col3\" >6.622</td>\n",
       "                        <td id=\"T_8498ce4e_15aa_11eb_97bf_acde48001122row6_col4\" class=\"data row6 col4\" >0.544</td>\n",
       "            </tr>\n",
       "            <tr>\n",
       "                        <th id=\"T_8498ce4e_15aa_11eb_97bf_acde48001122level0_row7\" class=\"row_heading level0 row7\" >Ramicane</th>\n",
       "                        <td id=\"T_8498ce4e_15aa_11eb_97bf_acde48001122row7_col0\" class=\"data row7 col0\" >40.217</td>\n",
       "                        <td id=\"T_8498ce4e_15aa_11eb_97bf_acde48001122row7_col1\" class=\"data row7 col1\" >40.673</td>\n",
       "                        <td id=\"T_8498ce4e_15aa_11eb_97bf_acde48001122row7_col2\" class=\"data row7 col2\" >23.487</td>\n",
       "                        <td id=\"T_8498ce4e_15aa_11eb_97bf_acde48001122row7_col3\" class=\"data row7 col3\" >4.846</td>\n",
       "                        <td id=\"T_8498ce4e_15aa_11eb_97bf_acde48001122row7_col4\" class=\"data row7 col4\" >0.321</td>\n",
       "            </tr>\n",
       "            <tr>\n",
       "                        <th id=\"T_8498ce4e_15aa_11eb_97bf_acde48001122level0_row8\" class=\"row_heading level0 row8\" >Stelasyn</th>\n",
       "                        <td id=\"T_8498ce4e_15aa_11eb_97bf_acde48001122row8_col0\" class=\"data row8 col0\" >54.233</td>\n",
       "                        <td id=\"T_8498ce4e_15aa_11eb_97bf_acde48001122row8_col1\" class=\"data row8 col1\" >52.432</td>\n",
       "                        <td id=\"T_8498ce4e_15aa_11eb_97bf_acde48001122row8_col2\" class=\"data row8 col2\" >59.451</td>\n",
       "                        <td id=\"T_8498ce4e_15aa_11eb_97bf_acde48001122row8_col3\" class=\"data row8 col3\" >7.710</td>\n",
       "                        <td id=\"T_8498ce4e_15aa_11eb_97bf_acde48001122row8_col4\" class=\"data row8 col4\" >0.573</td>\n",
       "            </tr>\n",
       "            <tr>\n",
       "                        <th id=\"T_8498ce4e_15aa_11eb_97bf_acde48001122level0_row9\" class=\"row_heading level0 row9\" >Zoniferol</th>\n",
       "                        <td id=\"T_8498ce4e_15aa_11eb_97bf_acde48001122row9_col0\" class=\"data row9 col0\" >53.237</td>\n",
       "                        <td id=\"T_8498ce4e_15aa_11eb_97bf_acde48001122row9_col1\" class=\"data row9 col1\" >51.818</td>\n",
       "                        <td id=\"T_8498ce4e_15aa_11eb_97bf_acde48001122row9_col2\" class=\"data row9 col2\" >48.533</td>\n",
       "                        <td id=\"T_8498ce4e_15aa_11eb_97bf_acde48001122row9_col3\" class=\"data row9 col3\" >6.967</td>\n",
       "                        <td id=\"T_8498ce4e_15aa_11eb_97bf_acde48001122row9_col4\" class=\"data row9 col4\" >0.516</td>\n",
       "            </tr>\n",
       "    </tbody></table>"
      ],
      "text/plain": [
       "<pandas.io.formats.style.Styler at 0x7fcc2ac7cf70>"
      ]
     },
     "execution_count": 14,
     "metadata": {},
     "output_type": "execute_result"
    }
   ],
   "source": [
    "# Generate a summary statistics table of mean, median, variance, standard deviation, and SEM of the tumor volume for each regimen\n",
    "Drougregimen=cleanmerged.groupby('Drug Regimen')\n",
    "# Use groupby and summary statistical methods to calculate the following properties of each drug regimen: \n",
    "# mean, median, variance, standard deviation, and SEM of the tumor volume. \n",
    "# Assemble the resulting series into a single summary dataframe.\n",
    "SummaryTV=pd.DataFrame({\"Mean\":Drougregimen['Tumor Volume (mm3)'].mean(),\n",
    "                       \"Median\":Drougregimen['Tumor Volume (mm3)'].median(),\n",
    "                       \"Variance\":Drougregimen['Tumor Volume (mm3)'].var(),\n",
    "                       \"Stddev\":Drougregimen['Tumor Volume (mm3)'].std(),\n",
    "                       \"Sem\":Drougregimen['Tumor Volume (mm3)'].sem()})\n",
    "SummaryTV.style.format({'Mean': \"{:.3f}\",'Median': \"{:.3f}\",'Variance': \"{:.3f}\",'Stddev': \"{:.3f}\",'Sem': \"{:.3f}\"})\n",
    "#pandasHW Summary.style.format({'average price': \"${:.2f}\",'total revenue': \"${:,.2f}\"})"
   ]
  },
  {
   "cell_type": "code",
   "execution_count": 31,
   "metadata": {},
   "outputs": [
    {
     "data": {
      "text/html": [
       "<style  type=\"text/css\" >\n",
       "</style><table id=\"T_f0bf3464_15af_11eb_97bf_acde48001122\" ><thead>    <tr>        <th class=\"blank level0\" ></th>        <th class=\"col_heading level0 col0\" colspan=5>Tumor Volume (mm3)</th>    </tr>    <tr>        <th class=\"blank level1\" ></th>        <th class=\"col_heading level1 col0\" >mean</th>        <th class=\"col_heading level1 col1\" >median</th>        <th class=\"col_heading level1 col2\" >var</th>        <th class=\"col_heading level1 col3\" >std</th>        <th class=\"col_heading level1 col4\" >sem</th>    </tr>    <tr>        <th class=\"index_name level0\" >Drug Regimen</th>        <th class=\"blank\" ></th>        <th class=\"blank\" ></th>        <th class=\"blank\" ></th>        <th class=\"blank\" ></th>        <th class=\"blank\" ></th>    </tr></thead><tbody>\n",
       "                <tr>\n",
       "                        <th id=\"T_f0bf3464_15af_11eb_97bf_acde48001122level0_row0\" class=\"row_heading level0 row0\" >Capomulin</th>\n",
       "                        <td id=\"T_f0bf3464_15af_11eb_97bf_acde48001122row0_col0\" class=\"data row0 col0\" >40.675741</td>\n",
       "                        <td id=\"T_f0bf3464_15af_11eb_97bf_acde48001122row0_col1\" class=\"data row0 col1\" >41.557809</td>\n",
       "                        <td id=\"T_f0bf3464_15af_11eb_97bf_acde48001122row0_col2\" class=\"data row0 col2\" >24.947764</td>\n",
       "                        <td id=\"T_f0bf3464_15af_11eb_97bf_acde48001122row0_col3\" class=\"data row0 col3\" >4.994774</td>\n",
       "                        <td id=\"T_f0bf3464_15af_11eb_97bf_acde48001122row0_col4\" class=\"data row0 col4\" >0.329346</td>\n",
       "            </tr>\n",
       "            <tr>\n",
       "                        <th id=\"T_f0bf3464_15af_11eb_97bf_acde48001122level0_row1\" class=\"row_heading level0 row1\" >Ceftamin</th>\n",
       "                        <td id=\"T_f0bf3464_15af_11eb_97bf_acde48001122row1_col0\" class=\"data row1 col0\" >52.591172</td>\n",
       "                        <td id=\"T_f0bf3464_15af_11eb_97bf_acde48001122row1_col1\" class=\"data row1 col1\" >51.776157</td>\n",
       "                        <td id=\"T_f0bf3464_15af_11eb_97bf_acde48001122row1_col2\" class=\"data row1 col2\" >39.290177</td>\n",
       "                        <td id=\"T_f0bf3464_15af_11eb_97bf_acde48001122row1_col3\" class=\"data row1 col3\" >6.268188</td>\n",
       "                        <td id=\"T_f0bf3464_15af_11eb_97bf_acde48001122row1_col4\" class=\"data row1 col4\" >0.469821</td>\n",
       "            </tr>\n",
       "            <tr>\n",
       "                        <th id=\"T_f0bf3464_15af_11eb_97bf_acde48001122level0_row2\" class=\"row_heading level0 row2\" >Infubinol</th>\n",
       "                        <td id=\"T_f0bf3464_15af_11eb_97bf_acde48001122row2_col0\" class=\"data row2 col0\" >52.884795</td>\n",
       "                        <td id=\"T_f0bf3464_15af_11eb_97bf_acde48001122row2_col1\" class=\"data row2 col1\" >51.820584</td>\n",
       "                        <td id=\"T_f0bf3464_15af_11eb_97bf_acde48001122row2_col2\" class=\"data row2 col2\" >43.128684</td>\n",
       "                        <td id=\"T_f0bf3464_15af_11eb_97bf_acde48001122row2_col3\" class=\"data row2 col3\" >6.567243</td>\n",
       "                        <td id=\"T_f0bf3464_15af_11eb_97bf_acde48001122row2_col4\" class=\"data row2 col4\" >0.492236</td>\n",
       "            </tr>\n",
       "            <tr>\n",
       "                        <th id=\"T_f0bf3464_15af_11eb_97bf_acde48001122level0_row3\" class=\"row_heading level0 row3\" >Ketapril</th>\n",
       "                        <td id=\"T_f0bf3464_15af_11eb_97bf_acde48001122row3_col0\" class=\"data row3 col0\" >55.235638</td>\n",
       "                        <td id=\"T_f0bf3464_15af_11eb_97bf_acde48001122row3_col1\" class=\"data row3 col1\" >53.698743</td>\n",
       "                        <td id=\"T_f0bf3464_15af_11eb_97bf_acde48001122row3_col2\" class=\"data row3 col2\" >68.553577</td>\n",
       "                        <td id=\"T_f0bf3464_15af_11eb_97bf_acde48001122row3_col3\" class=\"data row3 col3\" >8.279709</td>\n",
       "                        <td id=\"T_f0bf3464_15af_11eb_97bf_acde48001122row3_col4\" class=\"data row3 col4\" >0.603860</td>\n",
       "            </tr>\n",
       "            <tr>\n",
       "                        <th id=\"T_f0bf3464_15af_11eb_97bf_acde48001122level0_row4\" class=\"row_heading level0 row4\" >Naftisol</th>\n",
       "                        <td id=\"T_f0bf3464_15af_11eb_97bf_acde48001122row4_col0\" class=\"data row4 col0\" >54.331565</td>\n",
       "                        <td id=\"T_f0bf3464_15af_11eb_97bf_acde48001122row4_col1\" class=\"data row4 col1\" >52.509285</td>\n",
       "                        <td id=\"T_f0bf3464_15af_11eb_97bf_acde48001122row4_col2\" class=\"data row4 col2\" >66.173479</td>\n",
       "                        <td id=\"T_f0bf3464_15af_11eb_97bf_acde48001122row4_col3\" class=\"data row4 col3\" >8.134708</td>\n",
       "                        <td id=\"T_f0bf3464_15af_11eb_97bf_acde48001122row4_col4\" class=\"data row4 col4\" >0.596466</td>\n",
       "            </tr>\n",
       "            <tr>\n",
       "                        <th id=\"T_f0bf3464_15af_11eb_97bf_acde48001122level0_row5\" class=\"row_heading level0 row5\" >Placebo</th>\n",
       "                        <td id=\"T_f0bf3464_15af_11eb_97bf_acde48001122row5_col0\" class=\"data row5 col0\" >54.033581</td>\n",
       "                        <td id=\"T_f0bf3464_15af_11eb_97bf_acde48001122row5_col1\" class=\"data row5 col1\" >52.288934</td>\n",
       "                        <td id=\"T_f0bf3464_15af_11eb_97bf_acde48001122row5_col2\" class=\"data row5 col2\" >61.168083</td>\n",
       "                        <td id=\"T_f0bf3464_15af_11eb_97bf_acde48001122row5_col3\" class=\"data row5 col3\" >7.821003</td>\n",
       "                        <td id=\"T_f0bf3464_15af_11eb_97bf_acde48001122row5_col4\" class=\"data row5 col4\" >0.581331</td>\n",
       "            </tr>\n",
       "            <tr>\n",
       "                        <th id=\"T_f0bf3464_15af_11eb_97bf_acde48001122level0_row6\" class=\"row_heading level0 row6\" >Propriva</th>\n",
       "                        <td id=\"T_f0bf3464_15af_11eb_97bf_acde48001122row6_col0\" class=\"data row6 col0\" >52.320930</td>\n",
       "                        <td id=\"T_f0bf3464_15af_11eb_97bf_acde48001122row6_col1\" class=\"data row6 col1\" >50.446266</td>\n",
       "                        <td id=\"T_f0bf3464_15af_11eb_97bf_acde48001122row6_col2\" class=\"data row6 col2\" >43.852013</td>\n",
       "                        <td id=\"T_f0bf3464_15af_11eb_97bf_acde48001122row6_col3\" class=\"data row6 col3\" >6.622085</td>\n",
       "                        <td id=\"T_f0bf3464_15af_11eb_97bf_acde48001122row6_col4\" class=\"data row6 col4\" >0.544332</td>\n",
       "            </tr>\n",
       "            <tr>\n",
       "                        <th id=\"T_f0bf3464_15af_11eb_97bf_acde48001122level0_row7\" class=\"row_heading level0 row7\" >Ramicane</th>\n",
       "                        <td id=\"T_f0bf3464_15af_11eb_97bf_acde48001122row7_col0\" class=\"data row7 col0\" >40.216745</td>\n",
       "                        <td id=\"T_f0bf3464_15af_11eb_97bf_acde48001122row7_col1\" class=\"data row7 col1\" >40.673236</td>\n",
       "                        <td id=\"T_f0bf3464_15af_11eb_97bf_acde48001122row7_col2\" class=\"data row7 col2\" >23.486704</td>\n",
       "                        <td id=\"T_f0bf3464_15af_11eb_97bf_acde48001122row7_col3\" class=\"data row7 col3\" >4.846308</td>\n",
       "                        <td id=\"T_f0bf3464_15af_11eb_97bf_acde48001122row7_col4\" class=\"data row7 col4\" >0.320955</td>\n",
       "            </tr>\n",
       "            <tr>\n",
       "                        <th id=\"T_f0bf3464_15af_11eb_97bf_acde48001122level0_row8\" class=\"row_heading level0 row8\" >Stelasyn</th>\n",
       "                        <td id=\"T_f0bf3464_15af_11eb_97bf_acde48001122row8_col0\" class=\"data row8 col0\" >54.233149</td>\n",
       "                        <td id=\"T_f0bf3464_15af_11eb_97bf_acde48001122row8_col1\" class=\"data row8 col1\" >52.431737</td>\n",
       "                        <td id=\"T_f0bf3464_15af_11eb_97bf_acde48001122row8_col2\" class=\"data row8 col2\" >59.450562</td>\n",
       "                        <td id=\"T_f0bf3464_15af_11eb_97bf_acde48001122row8_col3\" class=\"data row8 col3\" >7.710419</td>\n",
       "                        <td id=\"T_f0bf3464_15af_11eb_97bf_acde48001122row8_col4\" class=\"data row8 col4\" >0.573111</td>\n",
       "            </tr>\n",
       "            <tr>\n",
       "                        <th id=\"T_f0bf3464_15af_11eb_97bf_acde48001122level0_row9\" class=\"row_heading level0 row9\" >Zoniferol</th>\n",
       "                        <td id=\"T_f0bf3464_15af_11eb_97bf_acde48001122row9_col0\" class=\"data row9 col0\" >53.236507</td>\n",
       "                        <td id=\"T_f0bf3464_15af_11eb_97bf_acde48001122row9_col1\" class=\"data row9 col1\" >51.818479</td>\n",
       "                        <td id=\"T_f0bf3464_15af_11eb_97bf_acde48001122row9_col2\" class=\"data row9 col2\" >48.533355</td>\n",
       "                        <td id=\"T_f0bf3464_15af_11eb_97bf_acde48001122row9_col3\" class=\"data row9 col3\" >6.966589</td>\n",
       "                        <td id=\"T_f0bf3464_15af_11eb_97bf_acde48001122row9_col4\" class=\"data row9 col4\" >0.516398</td>\n",
       "            </tr>\n",
       "    </tbody></table>"
      ],
      "text/plain": [
       "<pandas.io.formats.style.Styler at 0x7fcc2ade8250>"
      ]
     },
     "execution_count": 31,
     "metadata": {},
     "output_type": "execute_result"
    }
   ],
   "source": [
    "# Generate a summary statistics table of mean, median, variance, standard deviation, and SEM of the tumor volume for each regimen\n",
    "\n",
    "# Using the aggregation method, produce the same summary statistics in a single line\n",
    "SummaryTV2=cleanmerged.groupby('Drug Regimen').agg({'Tumor Volume (mm3)':['mean','median','var','std','sem']})\n",
    "SummaryTV2.style.format({'mean':\"{:.3f}\",'median':\"{:.3f}\",'var':\"{:.3f}\",'std':\"{:.3f}\",'sem':\"{:.3f}\"})\n",
    "#formatting not working"
   ]
  },
  {
   "cell_type": "markdown",
   "metadata": {},
   "source": [
    "## Bar and Pie Charts"
   ]
  },
  {
   "cell_type": "code",
   "execution_count": 40,
   "metadata": {},
   "outputs": [
    {
     "data": {
      "text/plain": [
       "Text(0, 0.5, 'Number of Mice')"
      ]
     },
     "execution_count": 40,
     "metadata": {},
     "output_type": "execute_result"
    },
    {
     "data": {
      "image/png": "[encoded data removed]",
      "text/plain": [
       "<Figure size 432x288 with 1 Axes>"
      ]
     },
     "metadata": {
      "needs_background": "light"
     },
     "output_type": "display_data"
    }
   ],
   "source": [
    "# Generate a bar plot showing the total number of unique mice tested on each drug regimen using pandas.\n",
    "Drougregimen=cleanmerged.groupby('Drug Regimen')\n",
    "miceregimem=Drougregimen[\"Mouse ID\"].count().sort_values(ascending=True)\n",
    "regimenchart=miceregimem.plot(kind=\"bar\",title=\"Mice by drug regimen\")\n",
    "regimenchart.set_xlabel(\"Drug Regimen\")\n",
    "regimenchart.set_ylabel(\"Number of Mice\")"
   ]
  },
  {
   "cell_type": "code",
   "execution_count": null,
   "metadata": {},
   "outputs": [],
   "source": [
    "# Generate a bar plot showing the total number of unique mice tested on each drug regimen using pyplot.\n",
    "\n"
   ]
  },
  {
   "cell_type": "code",
   "execution_count": null,
   "metadata": {},
   "outputs": [],
   "source": [
    "# Generate a pie plot showing the distribution of female versus male mice using pandas\n",
    "\n"
   ]
  },
  {
   "cell_type": "code",
   "execution_count": null,
   "metadata": {},
   "outputs": [],
   "source": [
    "# Generate a pie plot showing the distribution of female versus male mice using pyplot\n",
    "\n"
   ]
  },
  {
   "cell_type": "markdown",
   "metadata": {},
   "source": [
    "## Quartiles, Outliers and Boxplots"
   ]
  },
  {
   "cell_type": "code",
   "execution_count": null,
   "metadata": {},
   "outputs": [],
   "source": [
    "# Calculate the final tumor volume of each mouse across four of the treatment regimens:  \n",
    "# Capomulin, Ramicane, Infubinol, and Ceftamin\n",
    "\n",
    "# Start by getting the last (greatest) timepoint for each mouse\n",
    "\n",
    "\n",
    "# Merge this group df with the original dataframe to get the tumor volume at the last timepoint\n"
   ]
  },
  {
   "cell_type": "code",
   "execution_count": null,
   "metadata": {},
   "outputs": [],
   "source": [
    "# Put treatments into a list for for loop (and later for plot labels)\n",
    "\n",
    "\n",
    "# Create empty list to fill with tumor vol data (for plotting)\n",
    "\n",
    "\n",
    "# Calculate the IQR and quantitatively determine if there are any potential outliers. \n",
    "\n",
    "    \n",
    "    # Locate the rows which contain mice on each drug and get the tumor volumes\n",
    "    \n",
    "    \n",
    "    # add subset \n",
    "    \n",
    "    \n",
    "    # Determine outliers using upper and lower bounds\n",
    "    "
   ]
  },
  {
   "cell_type": "code",
   "execution_count": null,
   "metadata": {},
   "outputs": [],
   "source": [
    "# Generate a box plot of the final tumor volume of each mouse across four regimens of interest\n"
   ]
  },
  {
   "cell_type": "markdown",
   "metadata": {},
   "source": [
    "## Line and Scatter Plots"
   ]
  },
  {
   "cell_type": "code",
   "execution_count": null,
   "metadata": {},
   "outputs": [],
   "source": [
    "# Generate a line plot of tumor volume vs. time point for a mouse treated with Capomulin\n"
   ]
  },
  {
   "cell_type": "code",
   "execution_count": null,
   "metadata": {},
   "outputs": [],
   "source": [
    "# Generate a scatter plot of average tumor volume vs. mouse weight for the Capomulin regimen\n"
   ]
  },
  {
   "cell_type": "markdown",
   "metadata": {},
   "source": [
    "## Correlation and Regression"
   ]
  },
  {
   "cell_type": "code",
   "execution_count": null,
   "metadata": {},
   "outputs": [],
   "source": [
    "# Calculate the correlation coefficient and linear regression model \n",
    "# for mouse weight and average tumor volume for the Capomulin regimen\n"
   ]
  },
  {
   "cell_type": "code",
   "execution_count": null,
   "metadata": {},
   "outputs": [],
   "source": []
  }
 ],
 "metadata": {
  "anaconda-cloud": {},
  "kernelspec": {
   "display_name": "Python 3",
   "language": "python",
   "name": "python3"
  },
  "language_info": {
   "codemirror_mode": {
    "name": "ipython",
    "version": 3
   },
   "file_extension": ".py",
   "mimetype": "text/x-python",
   "name": "python",
   "nbconvert_exporter": "python",
   "pygments_lexer": "ipython3",
   "version": "3.8.3"
  }
 },
 "nbformat": 4,
 "nbformat_minor": 4
}
